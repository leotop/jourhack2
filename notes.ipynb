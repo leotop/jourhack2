{
 "cells": [
  {
   "cell_type": "code",
   "execution_count": 347,
   "metadata": {
    "collapsed": false
   },
   "outputs": [],
   "source": [
    "%run -n main.py\n",
    "# cache = set(list_json_cache())\n",
    "cache = {}\n",
    "urls = []\n",
    "for okogu, size in [(OKOGU1, OKOGU1_SIZE), (OKOGU2, OKOGU2_SIZE)]:\n",
    "    for page in get_pages_count(size, 50, 1):\n",
    "        url = get_clearspending_select_okogu_url(okogu, page=page, perpage=50)\n",
    "        if url not in cache:\n",
    "            urls.append(url)\n",
    "\n",
    "# fetch_jsons(log_progress(urls, every=1)) \n",
    "\n",
    "zakupki_customer_records = list(load_zakupki_customers(urls))"
   ]
  },
  {
   "cell_type": "code",
   "execution_count": 367,
   "metadata": {
    "collapsed": false
   },
   "outputs": [],
   "source": [
    "%run -n main.py\n",
    "cache = set(list_json_cache())\n",
    "urls = set()\n",
    "for record in log_progress(zakupki_customer_records, every=10):\n",
    "    inn = record.inn\n",
    "    url = get_clearspending_select_inn_url(inn)\n",
    "    data = load_json(url)\n",
    "    if data:\n",
    "        size = data['contracts']['total']\n",
    "        for page in get_pages_count(size, 50, 1):\n",
    "            url = get_clearspending_select_inn_url(inn, page=page, perpage=50)\n",
    "            urls.add(url)\n",
    "            \n",
    "# fetch_jsons(log_progress(urls, every=1))"
   ]
  },
  {
   "cell_type": "code",
   "execution_count": 380,
   "metadata": {
    "collapsed": false
   },
   "outputs": [],
   "source": [
    "contracts = [\n",
    "    _\n",
    "    for _ in load_contracts(log_progress(urls, every=10))\n",
    "    if _.date and _.date.year == 2015\n",
    "]"
   ]
  },
  {
   "cell_type": "code",
   "execution_count": 435,
   "metadata": {
    "collapsed": false
   },
   "outputs": [],
   "source": [
    "# okpd_names = list(okpd_names())\n",
    "# dump_contract_products(contracts, okpd_names)"
   ]
  },
  {
   "cell_type": "code",
   "execution_count": 441,
   "metadata": {
    "collapsed": false
   },
   "outputs": [],
   "source": [
    "CONTRACT_PRODUCTS_GROUPS = os.path.join(DATA_DIR, 'contract_products_groups.xlsx')\n",
    "CONTRACT_PRODUCTS_GROUPED = os.path.join(DATA_DIR, 'contract_products_grouped.xlsx')\n",
    "\n",
    "\n",
    "table = read_excel(CONTRACT_PRODUCTS_GROUPS)\n",
    "table.columns = ['id', 'name', 'count', 'price', 'group']\n",
    "\n",
    "view = table.groupby('group').sum()\n",
    "view = view.sort_values('count', ascending=False)\n",
    "view.to_excel(CONTRACT_PRODUCTS_GROUPED)"
   ]
  },
  {
   "cell_type": "code",
   "execution_count": 468,
   "metadata": {
    "collapsed": false
   },
   "outputs": [
    {
     "name": "stdout",
     "output_type": "stream",
     "text": [
      "207300.0 \tСигареты с фильтром\n",
      "147900.0 \tСигареты с фильтром\n",
      "132300.0 \tСигареты с фильтром\n",
      "115640.0 \tСигареты Максим Red\n",
      "116164.5 \tСигареты Святой Георгий 9\n",
      "59500.0 \tСигареты \"Максим\" красный\n",
      "26435.5 \tСигареты \"Винстон\" красный\n",
      "87450.0 \tСигареты с фильтром \"Winston Blue\"\n",
      "79500.0 \tСигареты с фильтром \"Winston Classic\"\n",
      "95268.0 \tСигареты с фильтром \"More Blue\"\n",
      "164945.0 \tСигареты с фильтром \"More Red\"\n",
      "100.46 \tСигареты с фильтром \"More Red\"\n",
      "93000.0 \tСигареты с фильтром \"Bond Street Red Selection\"\n",
      "55000.0 \tСигареты с фильтром \"Балканская звезда классик\"\n",
      "124000.0 \tСигареты с фильтром \"Wings Blue\"\n",
      "128000.0 \tСигареты с фильтром \"Wings Red\"\n",
      "70000.0 \tСигареты с фильтром \"LM Blue\"\n",
      "54500.0 \tСигареты с фильтром \"Alliance Classic\"\n"
     ]
    }
   ],
   "source": [
    "total = 0\n",
    "for contract in sample(contracts, 10000):\n",
    "    for product in contract.products:\n",
    "        if product.okpd and product.okpd.id in ('16.00.11.121', '16.00.11.122', '16.00.11.129'):\n",
    "            print product.money, '\\t', product.name\n",
    "            total += product.money"
   ]
  },
  {
   "cell_type": "code",
   "execution_count": 76,
   "metadata": {
    "collapsed": false
   },
   "outputs": [],
   "source": [
    "%run -n main.py\n",
    "# fetch_html(ATLAS_REGIONS)\n",
    "\n",
    "# region_urls = set(load_atlas_region_urls())\n",
    "\n",
    "# fetch_htmls(log_progress(region_urls, every=1))\n",
    "\n",
    "# atlas_urls = {\n",
    "#     url for region_url in log_progress(region_urls, every=1)\n",
    "#     for url in load_atlas_urls(region_url)\n",
    "# }\n",
    "\n",
    "# fetch_htmls(log_progress(atlas_urls, every=1))\n",
    "\n",
    "# atlas_records = [\n",
    "#     load_atlas_page(_)\n",
    "#     for _ in log_progress(atlas_urls, every=10)\n",
    "# ]\n",
    "# dump_atlas_pages(atlas_records)\n",
    "atlas_records = list(load_atlas_pages())"
   ]
  },
  {
   "cell_type": "code",
   "execution_count": 81,
   "metadata": {
    "collapsed": false
   },
   "outputs": [],
   "source": [
    "# cache = set(list_json_cache())\n",
    "# urls = []\n",
    "# for record in zakupki_customer_records + atlas_records:\n",
    "#     address = record.address\n",
    "#     if address:\n",
    "#         url = get_geocode_url(address)\n",
    "#         if url not in cache:\n",
    "#             urls.append(url)\n",
    "\n",
    "# fetch_jsons(log_progress(urls, every=1))\n",
    "\n",
    "# address_coordinates = [\n",
    "#     Address(_.address, load_coordinates(_.address))\n",
    "#     for _ in log_progress(zakupki_customer_records + atlas_records, every=100)\n",
    "#     if _.address\n",
    "# ]\n",
    "\n",
    "# dump_zakupki_atlas_join_check(zakupki_customer_records, atlas_records)\n",
    "\n",
    "inn_atlas_records = list(load_zakupki_atlas_join_check())"
   ]
  },
  {
   "cell_type": "code",
   "execution_count": 346,
   "metadata": {
    "collapsed": false
   },
   "outputs": [],
   "source": [
    "# cache = set(list_json_cache())\n",
    "# urls = {get_bus_search_url(_.inn) for _ in inn_atlas_records} - cache\n",
    "# fetch_jsons(log_progress(urls, every=1))\n",
    "\n",
    "bus_search_records = [\n",
    "    load_bus_search_record(_.inn) for _\n",
    "    in log_progress(inn_atlas_records, every=100)\n",
    "]\n",
    "\n",
    "# cache = set(list_json_cache())\n",
    "# urls = {get_bus_latest_report_url(_.id) for _ in bus_search_records if _.id} - cache\n",
    "# fetch_jsons(log_progress(urls, every=1))\n",
    "\n",
    "bus_report_years = [\n",
    "    load_bus_report_years(_.id)\n",
    "    for _ in bus_search_records\n",
    "    if _.id\n",
    "]\n",
    "\n",
    "# cache = set(list_json_cache())\n",
    "# urls = {\n",
    "#     get_bus_report_url(_.id, _.year_2014)\n",
    "#     for _ in bus_report_years if _.year_2014\n",
    "# } - cache\n",
    "# fetch_jsons(log_progress(urls, every=1))\n",
    "\n",
    "bus_reports = [\n",
    "    load_bus_report(_.id, _.year_2014)\n",
    "    for _ in bus_report_years if _.year_2014\n",
    "]"
   ]
  },
  {
   "cell_type": "code",
   "execution_count": 345,
   "metadata": {
    "collapsed": false
   },
   "outputs": [],
   "source": [
    "%run -n main.py    \n",
    "dump_bus_reports(bus_reports, bus_search_records)"
   ]
  }
 ],
 "metadata": {
  "kernelspec": {
   "display_name": "Python 2",
   "language": "python",
   "name": "python2"
  },
  "language_info": {
   "codemirror_mode": {
    "name": "ipython",
    "version": 2
   },
   "file_extension": ".py",
   "mimetype": "text/x-python",
   "name": "python",
   "nbconvert_exporter": "python",
   "pygments_lexer": "ipython2",
   "version": "2.7.10"
  }
 },
 "nbformat": 4,
 "nbformat_minor": 0
}
